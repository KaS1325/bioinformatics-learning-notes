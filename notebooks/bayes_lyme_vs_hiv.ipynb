{
 "cells": [
  {
   "cell_type": "markdown",
   "id": "ae74747c",
   "metadata": {},
   "source": [
    "# 🧠 Bayes' Theorem in Diagnostic Testing: Lyme Disease vs HIV\n",
    "\n",
    "In this notebook, I apply Bayes’ Theorem to understand how diagnostic test accuracy changes based on disease prevalence.\n",
    "\n",
    "This is based on the paper:  \n",
    "📄 *\"Application of Bayesian decision-making to laboratory testing for Lyme disease and comparison with testing for HIV\"*\n",
    "\n",
    "➡️ Goal: Understand why a 99% accurate test might still give **mostly false positives** in rare diseases like Lyme.\n",
    "\n"
   ]
  },
  {
   "cell_type": "code",
   "execution_count": 17,
   "id": "1e9a5b46",
   "metadata": {},
   "outputs": [],
   "source": [
    "import numpy as np\n"
   ]
  },
  {
   "cell_type": "code",
   "execution_count": 18,
   "id": "de4ef0aa",
   "metadata": {},
   "outputs": [],
   "source": [
    "def bayes_theorem(sensitivity, specificity, prevalence):\n",
    "    P_D = prevalence\n",
    "    P_not_D = 1 - P_D\n",
    "\n",
    "    P_T_given_D = sensitivity\n",
    "    P_T_given_not_D = 1 - specificity\n",
    "\n",
    "    numerator = P_T_given_D * P_D\n",
    "    denominator = (P_T_given_D * P_D) + (P_T_given_not_D * P_not_D)\n",
    "\n",
    "    return numerator / denominator\n"
   ]
  },
  {
   "cell_type": "code",
   "execution_count": 19,
   "id": "1d30747e",
   "metadata": {},
   "outputs": [
    {
     "name": "stdout",
     "output_type": "stream",
     "text": [
      "Probability of actually having Lyme after positive test: 26.21%\n"
     ]
    }
   ],
   "source": [
    "# Lyme Disease Values (approx)\n",
    "sensitivity = 0.54      # ELISA sensitivity\n",
    "specificity = 0.92\n",
    "prevalence = 0.05       # 5% prevalence in population\n",
    "\n",
    "bayes_lyme = bayes_theorem(sensitivity, specificity, prevalence)\n",
    "print(f\"Probability of actually having Lyme after positive test: {bayes_lyme:.2%}\")\n"
   ]
  },
  {
   "cell_type": "code",
   "execution_count": 20,
   "id": "afdfab74",
   "metadata": {},
   "outputs": [
    {
     "name": "stdout",
     "output_type": "stream",
     "text": [
      "Probability of actually having HIV after positive test: 94.58%\n"
     ]
    }
   ],
   "source": [
    "# HIV Test Values (approx)\n",
    "sensitivity = 0.995\n",
    "specificity = 0.997\n",
    "prevalence = 0.05\n",
    "\n",
    "bayes_hiv = bayes_theorem(sensitivity, specificity, prevalence)\n",
    "print(f\"Probability of actually having HIV after positive test: {bayes_hiv:.2%}\")\n"
   ]
  },
  {
   "cell_type": "markdown",
   "id": "e47212e2",
   "metadata": {},
   "source": [
    "### 🔍 Interpretation:\n",
    "\n",
    "- Even though both tests have good accuracy, the HIV test gives a much higher post-test probability of actual disease.\n",
    "- Lyme test gives more false positives due to lower sensitivity and specificity.\n",
    "- This exercise shows the **importance of Bayes’ Theorem** in interpreting medical test results — especially for **rare diseases**.\n",
    "\n",
    "🧠 Learned:\n",
    "- Bayes’ Theorem connects math to medicine.\n",
    "- Disease prevalence plays a big role in interpreting tests.\n"
   ]
  }
 ],
 "metadata": {
  "kernelspec": {
   "display_name": "Python 3",
   "language": "python",
   "name": "python3"
  },
  "language_info": {
   "codemirror_mode": {
    "name": "ipython",
    "version": 3
   },
   "file_extension": ".py",
   "mimetype": "text/x-python",
   "name": "python",
   "nbconvert_exporter": "python",
   "pygments_lexer": "ipython3",
   "version": "3.13.3"
  }
 },
 "nbformat": 4,
 "nbformat_minor": 5
}
